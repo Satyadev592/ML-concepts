{
 "cells": [
  {
   "cell_type": "markdown",
   "metadata": {},
   "source": [
    "https://towardsdatascience.com/support-vector-machine-simply-explained-fee28eba5496"
   ]
  },
  {
   "cell_type": "markdown",
   "metadata": {},
   "source": [
    "SVM is a linear classifier but can handle non linear seaparable data points by transforming them into a different space.\n",
    "\n",
    "SVM handles non linear separable cases by one of the two method:\n",
    "1. Soft margin basically allows misclassifications to exist\n",
    "2. Polynomial kernels, functions like x^2 or RBF (radial basis functions) which subtract each point from a particular center"
   ]
  },
  {
   "cell_type": "markdown",
   "metadata": {},
   "source": [
    "The cost function used in svm is hinge loss.\n",
    "\n",
    "$\\ell(y) = \\max(0, 1-t \\cdot y)$\n",
    "\n",
    "$t = ±1$\n",
    "\n",
    "t represents one of the two classes. If t and y are in the same direction, then the loss is 0"
   ]
  }
 ],
 "metadata": {
  "kernelspec": {
   "display_name": "Python 2",
   "language": "python",
   "name": "python2"
  },
  "language_info": {
   "codemirror_mode": {
    "name": "ipython",
    "version": 2
   },
   "file_extension": ".py",
   "mimetype": "text/x-python",
   "name": "python",
   "nbconvert_exporter": "python",
   "pygments_lexer": "ipython2",
   "version": "2.7.10"
  }
 },
 "nbformat": 4,
 "nbformat_minor": 2
}
