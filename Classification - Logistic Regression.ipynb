{
 "cells": [
  {
   "cell_type": "code",
   "execution_count": null,
   "metadata": {
    "collapsed": true
   },
   "outputs": [],
   "source": [
    "from sklearn.linear_model import LogisticRegression"
   ]
  },
  {
   "cell_type": "markdown",
   "metadata": {},
   "source": [
    "Logistic uses the cross-entropy loss function: −(ylog(p)+(1−y)log(1−p))\n",
    "https://ml-cheatsheet.readthedocs.io/en/latest/loss_functions.html#loss-cross-entropy"
   ]
  },
  {
   "cell_type": "markdown",
   "metadata": {},
   "source": [
    "Brilliant teardown of logistic regression:\n",
    "https://ml-cheatsheet.readthedocs.io/en/latest/logistic_regression.html"
   ]
  },
  {
   "cell_type": "markdown",
   "metadata": {},
   "source": [
    "Cross Entroy is used as the loss function as it learns faster than mse because of the way the\n",
    "differential of the equation turns out."
   ]
  },
  {
   "cell_type": "code",
   "execution_count": 23,
   "metadata": {},
   "outputs": [],
   "source": [
    "import numpy as np\n",
    "\n",
    "def sigmoid(z):\n",
    "    return 1/(1+np.exp(-z))\n",
    "\n",
    "def predict(features,weights):\n",
    "    \"\"\"\n",
    "    features shape is 100,2\n",
    "    weights shape is 2,1\n",
    "    \"\"\"\n",
    "    output = np.dot(features,weights)\n",
    "    return sigmoid(output)"
   ]
  },
  {
   "cell_type": "code",
   "execution_count": 26,
   "metadata": {},
   "outputs": [
    {
     "name": "stdout",
     "output_type": "stream",
     "text": [
      "[-0.00548244  0.12128346]\n"
     ]
    }
   ],
   "source": [
    "x0 = np.random.rand(100,1)\n",
    "x1 = np.random.rand(100,1)\n",
    "y = np.random.choice(2,100)\n",
    "\n",
    "features = np.array([x0,x1]).reshape((100,2))\n",
    "weights = np.array([0,0])\n",
    "\n",
    "def cost(y, predictions):\n",
    "    cost1 = np.log(predictions) * y\n",
    "    cost2 = (1-np.log(predictions)) * (1-y)\n",
    "    cost = (cost1+cost2)/100\n",
    "    return cost\n",
    "\n",
    "def update_weights(features, weights, iterations):\n",
    "    \"\"\"\n",
    "    The cost function is cross-entropy\n",
    "    j = (lna*y + 1-lna(1-y))/n\n",
    "    \"\"\"\n",
    "    learning_rate = 0.01\n",
    "    iteration_cost = [0] * iterations\n",
    "    for iteration in range(iterations):\n",
    "        predictions = predict(features,weights)\n",
    "        iteration_cost[iteration] = cost(y,predictions)\n",
    "        # features is 100,2 and predictions is 100,1\n",
    "        gradient = np.dot(features.T, predictions-y)/2\n",
    "        weights = weights - learning_rate*gradient\n",
    "    print weights\n",
    "        \n",
    "update_weights(features,weights,10)"
   ]
  }
 ],
 "metadata": {
  "kernelspec": {
   "display_name": "Python 2",
   "language": "python",
   "name": "python2"
  },
  "language_info": {
   "codemirror_mode": {
    "name": "ipython",
    "version": 2
   },
   "file_extension": ".py",
   "mimetype": "text/x-python",
   "name": "python",
   "nbconvert_exporter": "python",
   "pygments_lexer": "ipython2",
   "version": "2.7.10"
  }
 },
 "nbformat": 4,
 "nbformat_minor": 2
}
